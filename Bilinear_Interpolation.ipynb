{
 "cells": [
  {
   "cell_type": "code",
   "execution_count": 80,
   "source": [
    "import numpy as np\n",
    "import cv2"
   ],
   "outputs": [],
   "metadata": {}
  },
  {
   "cell_type": "code",
   "execution_count": 97,
   "source": [
    "def resize_bilinear_1(image, scale):\n",
    "    # empty list to store each resized rgb channel image(total 3)\n",
    "    image_rgb = []\n",
    "\n",
    "    B = np.array([[0, 1], [1, 1]])\n",
    "    B_inv = np.linalg.inv(B)\n",
    "\n",
    "    # perform bilinear interpolation for each color channel(RGB)\n",
    "    for i in range(3):\n",
    "        image_channel = image[:, :, i]\n",
    "\n",
    "        # size of original image\n",
    "        n_row_in, n_column_in = image_channel.shape\n",
    "\n",
    "        # size of output image after scaling\n",
    "        n_row_out = n_row_in * scale\n",
    "        n_column_out = n_column_in * scale\n",
    "\n",
    "        # allocate space for output image\n",
    "        image_output = np.zeros((n_row_out, n_column_out), dtype=np.uint8)\n",
    "\n",
    "        # pad original image to make sure every pixel in the original image can find\n",
    "        # 4 nearby data points for bilinear interpolation\n",
    "        bottom_row = image_channel[-1, :]\n",
    "        image_row_padding = np.vstack((image_channel, bottom_row))\n",
    "\n",
    "        rightmost_column = image_row_padding[:, -1]\n",
    "        image_padding = np.c_[image_row_padding, rightmost_column]\n",
    "\n",
    "        # preallocate space for F matrix\n",
    "        # F stores f matrix for each pixel in the original image matrix (computed using image after padding)\n",
    "        # each f is a 2 by 2 matrix that stores 4 pixel values for bilinear interpoolation\n",
    "        F = np.zeros((n_row_in, n_column_in, 2, 2))\n",
    "\n",
    "        for x in range(n_row_in):\n",
    "            for y in range(n_column_in):\n",
    "                f = np.array([[image_padding[x][y],   image_padding[x][y+1]],\n",
    "                              [image_padding[x+1][y], image_padding[x+1][y+1]]])\n",
    "                F[x][y] = f\n",
    "\n",
    "        # interpolate image pixel by pixel\n",
    "        for x in range(n_row_out):\n",
    "            # the corresponding x position in the original image matrix\n",
    "            x_ori = (x / n_row_out) * n_row_in\n",
    "\n",
    "            # x_ori's integer part (Used to index F matrix created above)\n",
    "            x_int = int(np.floor(x_ori))\n",
    "\n",
    "            # the amount of value that need to be interpolated\n",
    "            x_interp = x_ori - np.floor(x_ori)\n",
    "\n",
    "            for y in range(n_column_out):\n",
    "                # the corresponding y position in the original image matrix\n",
    "                y_ori = (y / n_column_out) * n_column_in\n",
    "\n",
    "                # y_ori's integer part (Used to index F matrix created above)\n",
    "                y_int = int(np.floor(y_ori))\n",
    "\n",
    "                # the amount of value that need to be interpolated\n",
    "                y_interp = y_ori - np.floor(y_ori)\n",
    "\n",
    "                if x_interp==0.0 and y_interp==0.0:\n",
    "                    image_output[x][y] = image_channel[int(x_ori)][int(y_ori)]\n",
    "                else:\n",
    "                    # interpolate value in x direction (row vector)\n",
    "                    X = np.expand_dims(np.array([x_interp**1, x_interp**0]), axis=0)\n",
    "                    # interpolate value in y direction (column vector)\n",
    "                    Y = np.expand_dims(np.array([y_interp**1, y_interp**0]), axis=1)\n",
    "\n",
    "                    F_interp = F[x_int][y_int]\n",
    "\n",
    "                    value = X.dot(B_inv).dot(F_interp).dot(B_inv).dot(Y)\n",
    "\n",
    "                    # after bilinear interpolation floating point values are returned intead of\n",
    "                    # unsigned integer value between 0 and 255. Thus we need to clamp these value\n",
    "                    # between 0 and 255 in order to show it as an image\n",
    "                    if value < 0:\n",
    "                        value = 0\n",
    "                    elif value > 255:\n",
    "                        value = 255\n",
    "\n",
    "                    image_output[x][y] = value\n",
    "        \n",
    "        image_rgb.append(image_output)\n",
    "\n",
    "    image_rgb_output = cv2.merge((image_rgb[0], image_rgb[1], image_rgb[2]))\n",
    "\n",
    "    return image_rgb_output"
   ],
   "outputs": [],
   "metadata": {}
  },
  {
   "cell_type": "code",
   "execution_count": 82,
   "source": [
    "a = np.array([[1, 2, 3], [4, 5, 6], [7, 8, 9]])\n",
    "print(a)\n",
    "bottom_row = a[-1, :]\n",
    "b = np.vstack((a, bottom_row))\n",
    "print(b)\n",
    "rightmost_column = b[:, -1]\n",
    "c = np.c_[b, rightmost_column]\n",
    "print(c)"
   ],
   "outputs": [
    {
     "output_type": "stream",
     "name": "stdout",
     "text": [
      "[[1 2 3]\n",
      " [4 5 6]\n",
      " [7 8 9]]\n",
      "[[1 2 3]\n",
      " [4 5 6]\n",
      " [7 8 9]\n",
      " [7 8 9]]\n",
      "[[1 2 3 3]\n",
      " [4 5 6 6]\n",
      " [7 8 9 9]\n",
      " [7 8 9 9]]\n"
     ]
    }
   ],
   "metadata": {}
  },
  {
   "cell_type": "code",
   "execution_count": 83,
   "source": [
    "print(np.floor(0.5))\n",
    "print(1.5 - np.floor(1.5))"
   ],
   "outputs": [
    {
     "output_type": "stream",
     "name": "stdout",
     "text": [
      "0.0\n",
      "0.5\n"
     ]
    }
   ],
   "metadata": {}
  },
  {
   "cell_type": "code",
   "execution_count": 84,
   "source": [
    "a = [1,2,3]\n",
    "b = [4,5,6]\n",
    "c = []\n",
    "c.append(b)\n",
    "c.append(a)\n",
    "print(c[0])"
   ],
   "outputs": [
    {
     "output_type": "stream",
     "name": "stdout",
     "text": [
      "[4, 5, 6]\n"
     ]
    }
   ],
   "metadata": {}
  },
  {
   "cell_type": "code",
   "execution_count": 85,
   "source": [
    "image = cv2.imread(\"../Test_Image/man.png\")"
   ],
   "outputs": [],
   "metadata": {}
  },
  {
   "cell_type": "code",
   "execution_count": 100,
   "source": [
    "image_resized = resize_bilinear_1(image, 16)"
   ],
   "outputs": [],
   "metadata": {}
  },
  {
   "cell_type": "code",
   "execution_count": 101,
   "source": [
    "cv2.imshow(\"Resized (Bilinear)\", image_resized)\n",
    "cv2.waitKey(0)\n",
    "cv2.destroyAllWindows()\n",
    "cv2.waitKey(1)"
   ],
   "outputs": [
    {
     "output_type": "execute_result",
     "data": {
      "text/plain": [
       "-1"
      ]
     },
     "metadata": {},
     "execution_count": 101
    }
   ],
   "metadata": {}
  }
 ],
 "metadata": {
  "orig_nbformat": 4,
  "language_info": {
   "name": "python",
   "version": "3.8.5",
   "mimetype": "text/x-python",
   "codemirror_mode": {
    "name": "ipython",
    "version": 3
   },
   "pygments_lexer": "ipython3",
   "nbconvert_exporter": "python",
   "file_extension": ".py"
  },
  "kernelspec": {
   "name": "python3",
   "display_name": "Python 3.8.5 64-bit ('base': conda)"
  },
  "interpreter": {
   "hash": "c39b740c7e8315252f08c94b17875ec09dd6ee22a1ed05f98757d1ae325a54cb"
  }
 },
 "nbformat": 4,
 "nbformat_minor": 2
}